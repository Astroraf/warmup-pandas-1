{
 "cells": [
  {
   "cell_type": "markdown",
   "metadata": {},
   "source": [
    "# Video Gambling Data and Pandas 🧐\n",
    "<img src=\"https://media.tegna-media.com/assets/WQAD/images/01c4abef-ca79-4b9b-b3f7-2ad2e856b34b/01c4abef-ca79-4b9b-b3f7-2ad2e856b34b_750x422.jpg\" width=\"460\"/>"
   ]
  },
  {
   "cell_type": "markdown",
   "metadata": {},
   "source": [
    "### *Video gambling, in Illinois, was legalized in 2012.*\n",
    "\n",
    ">Since then, it has become a boon for local bars, restaurants, and communities with declining tax revenue, but comes with public health concerns of gambling addition.\n",
    "Because of this Video Gambling is a frequent issue voted on by municipal governments in Illinois. \n",
    "\n",
    ">Video Gambling is closely monitored by the [Illinois Gaming Board](https://www.igb.illinois.gov/) and has been the subject of much reporting by local news agencies.\n",
    "\n",
    "**Let's use our skills with Pandas to investigate this topic.**"
   ]
  },
  {
   "cell_type": "code",
   "execution_count": 1,
   "metadata": {
    "ExecuteTime": {
     "end_time": "2020-05-17T01:54:42.121354Z",
     "start_time": "2020-05-17T01:54:41.718408Z"
    }
   },
   "outputs": [],
   "source": [
    "# Run this cell unchanged\n",
    "\n",
    "import pandas as pd\n",
    "from IPython.display import display, Markdown\n",
    "\n",
    "def markdown(text):\n",
    "    display(Markdown(text))"
   ]
  },
  {
   "cell_type": "markdown",
   "metadata": {},
   "source": [
    "**Our data is located** within the ```data``` folder of this repo.\n",
    "\n",
    "It is titled ```2019-il-vgambling.csv```\n",
    "\n",
    "<u>In the cell below:</u> \n",
    "1. Set the ```path``` variable to the path ```./data/2019-il-vgambling.csv```. \n",
    "2. Run the cell to import our dataset."
   ]
  },
  {
   "cell_type": "code",
   "execution_count": null,
   "metadata": {
    "ExecuteTime": {
     "end_time": "2020-05-17T00:29:34.172779Z",
     "start_time": "2020-05-17T00:29:34.159864Z"
    }
   },
   "outputs": [],
   "source": [
    "path = None\n",
    "df = pd.read_csv(path)"
   ]
  },
  {
   "cell_type": "code",
   "execution_count": 2,
   "metadata": {
    "ExecuteTime": {
     "end_time": "2020-05-17T01:54:44.953166Z",
     "start_time": "2020-05-17T01:54:44.933416Z"
    }
   },
   "outputs": [],
   "source": [
    "# __SOLUTION__\n",
    "path = './data/2019-il-vgambling.csv'\n",
    "data = pd.read_csv(path)"
   ]
  },
  {
   "cell_type": "markdown",
   "metadata": {},
   "source": [
    "**Ok,** let's print out the first 5 rows using the ```.head()``` method."
   ]
  },
  {
   "cell_type": "code",
   "execution_count": null,
   "metadata": {},
   "outputs": [],
   "source": [
    "# Your code here"
   ]
  },
  {
   "cell_type": "code",
   "execution_count": 3,
   "metadata": {
    "ExecuteTime": {
     "end_time": "2020-05-17T01:54:46.583570Z",
     "start_time": "2020-05-17T01:54:46.565735Z"
    }
   },
   "outputs": [
    {
     "data": {
      "text/html": [
       "<div>\n",
       "<style scoped>\n",
       "    .dataframe tbody tr th:only-of-type {\n",
       "        vertical-align: middle;\n",
       "    }\n",
       "\n",
       "    .dataframe tbody tr th {\n",
       "        vertical-align: top;\n",
       "    }\n",
       "\n",
       "    .dataframe thead th {\n",
       "        text-align: right;\n",
       "    }\n",
       "</style>\n",
       "<table border=\"1\" class=\"dataframe\">\n",
       "  <thead>\n",
       "    <tr style=\"text-align: right;\">\n",
       "      <th></th>\n",
       "      <th>Municipality</th>\n",
       "      <th>Establishment Count</th>\n",
       "      <th>Terminal Count</th>\n",
       "      <th>Amount Played</th>\n",
       "      <th>Amount Won</th>\n",
       "      <th>Nti Tax</th>\n",
       "      <th>State Share</th>\n",
       "      <th>Municipality Share</th>\n",
       "    </tr>\n",
       "  </thead>\n",
       "  <tbody>\n",
       "    <tr>\n",
       "      <th>0</th>\n",
       "      <td>Oregon</td>\n",
       "      <td>13</td>\n",
       "      <td>58</td>\n",
       "      <td>30182428.57</td>\n",
       "      <td>27583763.32</td>\n",
       "      <td>818444.23</td>\n",
       "      <td>688505.69</td>\n",
       "      <td>129938.54</td>\n",
       "    </tr>\n",
       "    <tr>\n",
       "      <th>1</th>\n",
       "      <td>Oakwood Hills</td>\n",
       "      <td>1</td>\n",
       "      <td>4</td>\n",
       "      <td>216669.74</td>\n",
       "      <td>199790.23</td>\n",
       "      <td>5281.38</td>\n",
       "      <td>4433.69</td>\n",
       "      <td>847.69</td>\n",
       "    </tr>\n",
       "    <tr>\n",
       "      <th>2</th>\n",
       "      <td>Merrionette Park</td>\n",
       "      <td>4</td>\n",
       "      <td>17</td>\n",
       "      <td>26567816.26</td>\n",
       "      <td>24324921.75</td>\n",
       "      <td>706616.85</td>\n",
       "      <td>594470.85</td>\n",
       "      <td>112146.00</td>\n",
       "    </tr>\n",
       "    <tr>\n",
       "      <th>3</th>\n",
       "      <td>Ashkum</td>\n",
       "      <td>2</td>\n",
       "      <td>8</td>\n",
       "      <td>2289711.66</td>\n",
       "      <td>2113123.06</td>\n",
       "      <td>55674.55</td>\n",
       "      <td>46845.11</td>\n",
       "      <td>8829.44</td>\n",
       "    </tr>\n",
       "    <tr>\n",
       "      <th>4</th>\n",
       "      <td>Grandview</td>\n",
       "      <td>5</td>\n",
       "      <td>25</td>\n",
       "      <td>13713301.51</td>\n",
       "      <td>12475853.83</td>\n",
       "      <td>390048.01</td>\n",
       "      <td>328175.50</td>\n",
       "      <td>61872.51</td>\n",
       "    </tr>\n",
       "  </tbody>\n",
       "</table>\n",
       "</div>"
      ],
      "text/plain": [
       "       Municipality  Establishment Count  Terminal Count  Amount Played  \\\n",
       "0            Oregon                   13              58    30182428.57   \n",
       "1     Oakwood Hills                    1               4      216669.74   \n",
       "2  Merrionette Park                    4              17    26567816.26   \n",
       "3            Ashkum                    2               8     2289711.66   \n",
       "4         Grandview                    5              25    13713301.51   \n",
       "\n",
       "    Amount Won    Nti Tax  State Share  Municipality Share  \n",
       "0  27583763.32  818444.23    688505.69           129938.54  \n",
       "1    199790.23    5281.38      4433.69              847.69  \n",
       "2  24324921.75  706616.85    594470.85           112146.00  \n",
       "3   2113123.06   55674.55     46845.11             8829.44  \n",
       "4  12475853.83  390048.01    328175.50            61872.51  "
      ]
     },
     "execution_count": 3,
     "metadata": {},
     "output_type": "execute_result"
    }
   ],
   "source": [
    "# __SOLUTION__\n",
    "data.head()"
   ]
  },
  {
   "cell_type": "markdown",
   "metadata": {},
   "source": [
    "<center><u><h3>Column Descriptions</h3><u></center>\n",
    "\n",
    "\n",
    "| Column Name         \t| Description                                                                                                                                                               \t|\n",
    "|:---------------------\t|:---------------------------------------------------------------------------------------------------------------------------------------------------------------------------\t|\n",
    "| Municipality        \t| The community's name                                                                                                                                                      \t|\n",
    "| Establishment Count \t| Number of businesses with video gambling licenses                                                                                                                         \t|\n",
    "| Terminal Count      \t| Number of video gambling machines in the community.                                                                                                                       \t|\n",
    "| Amount Played       \t| Total amount spent on video gambling by players.                                                                                                                          \t|\n",
    "| Amount Won          \t| Total amount won by players                                                                                                                                               \t|\n",
    "| Nti Tax             \t| The Net Terminal Income Tax Rate <br>is 30% of the Net Terminal Income. <br>The funds are divided between<br>the State of Illinois and local <br>governmental organizations. \t|\n",
    "| State Share         \t| Total revenue received by the State Government                                                                                                                            \t|\n",
    "| Municipality Share  \t| Total revenue received by the Municipality                                                                                                                                \t|"
   ]
  },
  {
   "cell_type": "markdown",
   "metadata": {},
   "source": [
    "**When examining data at the municipal level,** it is common to <i><u>scale</u></i> our data according to the municipality's population. \n",
    ">This is often referred to as scaling our data *per capita*. \n",
    "\n",
    "To do this let's import some population data for Illinois Municipalities.\n",
    "\n",
    "In the cell below: \n",
    "1. Set the ```path``` variable to the path for the ```population.csv``` file within the ```data``` folder.\n",
    "2. Run the cell to import our population data."
   ]
  },
  {
   "cell_type": "code",
   "execution_count": null,
   "metadata": {},
   "outputs": [],
   "source": [
    "path = None\n",
    "pop = pd.read_csv(path)"
   ]
  },
  {
   "cell_type": "code",
   "execution_count": 4,
   "metadata": {
    "ExecuteTime": {
     "end_time": "2020-05-17T01:54:49.574026Z",
     "start_time": "2020-05-17T01:54:49.567157Z"
    }
   },
   "outputs": [],
   "source": [
    "# __SOLUTION__\n",
    "path = './data/population.csv'\n",
    "pop = pd.read_csv(path)"
   ]
  },
  {
   "cell_type": "markdown",
   "metadata": {},
   "source": [
    "**Cool Cool**, let's print out the first 5 rows using the ```.head()``` method."
   ]
  },
  {
   "cell_type": "code",
   "execution_count": null,
   "metadata": {},
   "outputs": [],
   "source": [
    "# Your Code here"
   ]
  },
  {
   "cell_type": "code",
   "execution_count": 5,
   "metadata": {
    "ExecuteTime": {
     "end_time": "2020-05-17T01:54:51.782071Z",
     "start_time": "2020-05-17T01:54:51.774595Z"
    }
   },
   "outputs": [
    {
     "data": {
      "text/html": [
       "<div>\n",
       "<style scoped>\n",
       "    .dataframe tbody tr th:only-of-type {\n",
       "        vertical-align: middle;\n",
       "    }\n",
       "\n",
       "    .dataframe tbody tr th {\n",
       "        vertical-align: top;\n",
       "    }\n",
       "\n",
       "    .dataframe thead th {\n",
       "        text-align: right;\n",
       "    }\n",
       "</style>\n",
       "<table border=\"1\" class=\"dataframe\">\n",
       "  <thead>\n",
       "    <tr style=\"text-align: right;\">\n",
       "      <th></th>\n",
       "      <th>Unnamed: 0</th>\n",
       "      <th>Municipality</th>\n",
       "      <th>Population</th>\n",
       "    </tr>\n",
       "  </thead>\n",
       "  <tbody>\n",
       "    <tr>\n",
       "      <th>0</th>\n",
       "      <td>0</td>\n",
       "      <td>Champaign</td>\n",
       "      <td>86,791</td>\n",
       "    </tr>\n",
       "    <tr>\n",
       "      <th>1</th>\n",
       "      <td>1</td>\n",
       "      <td>Carbondale</td>\n",
       "      <td>25,846</td>\n",
       "    </tr>\n",
       "    <tr>\n",
       "      <th>2</th>\n",
       "      <td>2</td>\n",
       "      <td>Prairie Grove</td>\n",
       "      <td>1,826</td>\n",
       "    </tr>\n",
       "    <tr>\n",
       "      <th>3</th>\n",
       "      <td>3</td>\n",
       "      <td>Macomb</td>\n",
       "      <td>18,118</td>\n",
       "    </tr>\n",
       "    <tr>\n",
       "      <th>4</th>\n",
       "      <td>4</td>\n",
       "      <td>Brimfield</td>\n",
       "      <td>965</td>\n",
       "    </tr>\n",
       "  </tbody>\n",
       "</table>\n",
       "</div>"
      ],
      "text/plain": [
       "   Unnamed: 0   Municipality Population\n",
       "0           0      Champaign     86,791\n",
       "1           1     Carbondale     25,846\n",
       "2           2  Prairie Grove      1,826\n",
       "3           3         Macomb     18,118\n",
       "4           4      Brimfield        965"
      ]
     },
     "execution_count": 5,
     "metadata": {},
     "output_type": "execute_result"
    }
   ],
   "source": [
    "# __SOLUTION__\n",
    "pop.head()"
   ]
  },
  {
   "cell_type": "markdown",
   "metadata": {},
   "source": [
    "Let's remove the ```Unnamed: 0``` column."
   ]
  },
  {
   "cell_type": "code",
   "execution_count": 6,
   "metadata": {
    "ExecuteTime": {
     "end_time": "2020-05-17T01:54:55.264897Z",
     "start_time": "2020-05-17T01:54:55.260935Z"
    }
   },
   "outputs": [],
   "source": [
    "pop.drop('Unnamed: 0', axis = 1, inplace = True)"
   ]
  },
  {
   "cell_type": "markdown",
   "metadata": {},
   "source": [
    "We need to merge our two datasets. \n",
    "\n",
    "**When merging** datasets, it's important to check the length of our datasets before and after merging to make sure we are not losing too much data.\n",
    "\n",
    "<u>In the cell below:</u>\n",
    "1. Set the variable ```length_before_merge``` to the length of our ```data``` variable using python's built in ```len``` function"
   ]
  },
  {
   "cell_type": "code",
   "execution_count": null,
   "metadata": {
    "ExecuteTime": {
     "end_time": "2020-05-17T01:34:23.477846Z",
     "start_time": "2020-05-17T01:34:23.467203Z"
    }
   },
   "outputs": [],
   "source": [
    "# Your code here\n",
    "length_before_merge = None\n",
    "\n",
    "\n",
    "# Run Code below without change\n",
    "string = '''<u>Length before merge:</u> **{}**'''.format(length_before_merge)\n",
    "markdown(string)"
   ]
  },
  {
   "cell_type": "code",
   "execution_count": 7,
   "metadata": {
    "ExecuteTime": {
     "end_time": "2020-05-17T01:54:57.076948Z",
     "start_time": "2020-05-17T01:54:57.071696Z"
    }
   },
   "outputs": [
    {
     "data": {
      "text/markdown": [
       "<u>Length before merge:</u> **835**"
      ],
      "text/plain": [
       "<IPython.core.display.Markdown object>"
      ]
     },
     "metadata": {},
     "output_type": "display_data"
    }
   ],
   "source": [
    "# __SOLUTION__\n",
    "length_before_merge = len(data)\n",
    "\n",
    "\n",
    "\n",
    "# Run Code below without change\n",
    "string = '''<u>Length before merge:</u> **{}**'''.format(length_before_merge)\n",
    "markdown(string)"
   ]
  },
  {
   "cell_type": "markdown",
   "metadata": {},
   "source": [
    "*Merge Time*\n",
    "\n",
    "\n",
    "<u>In the cell below:</u>\n",
    "1. [Merge](https://pandas.pydata.org/pandas-docs/stable/reference/api/pandas.DataFrame.merge.html) the two dataframes on the ```Municipality``` column.\n",
    "    - Save the merged dataframe as the variable ```df```"
   ]
  },
  {
   "cell_type": "code",
   "execution_count": null,
   "metadata": {},
   "outputs": [],
   "source": [
    "# Your code here\n"
   ]
  },
  {
   "cell_type": "code",
   "execution_count": 8,
   "metadata": {
    "ExecuteTime": {
     "end_time": "2020-05-17T01:54:59.174871Z",
     "start_time": "2020-05-17T01:54:59.167180Z"
    }
   },
   "outputs": [],
   "source": [
    "# __SOLUTION__\n",
    "df = pd.merge(data, pop, on = 'Municipality')"
   ]
  },
  {
   "cell_type": "markdown",
   "metadata": {},
   "source": [
    "Now we need to check the length of our dataframe to make sure we didn't lose data! \n",
    "\n",
    "<u>In the cell below:</u>\n",
    "1. Set the ```length_after_merge``` variable to the length of ```df```."
   ]
  },
  {
   "cell_type": "code",
   "execution_count": null,
   "metadata": {},
   "outputs": [],
   "source": [
    "# Your code here\n",
    "length_after_merge = None\n",
    "\n",
    "\n",
    "# Run Code below without change\n",
    "string = '''<u>Length after merge:</u> **{}**'''.format(length_after_merge,)\n",
    "markdown(string)"
   ]
  },
  {
   "cell_type": "code",
   "execution_count": 9,
   "metadata": {
    "ExecuteTime": {
     "end_time": "2020-05-17T01:55:00.695200Z",
     "start_time": "2020-05-17T01:55:00.691220Z"
    }
   },
   "outputs": [
    {
     "data": {
      "text/markdown": [
       "<u>Length after merge:</u> **835**"
      ],
      "text/plain": [
       "<IPython.core.display.Markdown object>"
      ]
     },
     "metadata": {},
     "output_type": "display_data"
    }
   ],
   "source": [
    "# __SOLUTION__\n",
    "length_after_merge = len(df)\n",
    "\n",
    "# Run Code below without change\n",
    "string = '''<u>Length after merge:</u> **{}**'''.format(length_after_merge)\n",
    "markdown(string)"
   ]
  },
  {
   "cell_type": "markdown",
   "metadata": {
    "ExecuteTime": {
     "end_time": "2020-05-17T00:17:37.266328Z",
     "start_time": "2020-05-17T00:17:37.255213Z"
    }
   },
   "source": [
    "In the cell below, set the Municipality column as the index using the ```.set_index()``` method."
   ]
  },
  {
   "cell_type": "code",
   "execution_count": null,
   "metadata": {},
   "outputs": [],
   "source": [
    "# Your code here\n"
   ]
  },
  {
   "cell_type": "code",
   "execution_count": 10,
   "metadata": {
    "ExecuteTime": {
     "end_time": "2020-05-17T01:55:04.905062Z",
     "start_time": "2020-05-17T01:55:04.901689Z"
    }
   },
   "outputs": [],
   "source": [
    "# __SOLUTION__\n",
    "df.set_index('Municipality', drop=True, inplace = True)"
   ]
  },
  {
   "cell_type": "markdown",
   "metadata": {
    "ExecuteTime": {
     "end_time": "2020-05-17T00:19:20.848464Z",
     "start_time": "2020-05-17T00:19:20.811798Z"
    }
   },
   "source": [
    "Let's sort our index alphabetically using [this](https://pandas.pydata.org/pandas-docs/stable/reference/api/pandas.DataFrame.sort_index.html) method."
   ]
  },
  {
   "cell_type": "code",
   "execution_count": null,
   "metadata": {},
   "outputs": [],
   "source": [
    "# Your code here"
   ]
  },
  {
   "cell_type": "code",
   "execution_count": 11,
   "metadata": {
    "ExecuteTime": {
     "end_time": "2020-05-17T01:55:07.563460Z",
     "start_time": "2020-05-17T01:55:07.558528Z"
    }
   },
   "outputs": [],
   "source": [
    "# __SOLUTION__\n",
    "df.sort_index(inplace = True)"
   ]
  },
  {
   "cell_type": "markdown",
   "metadata": {
    "ExecuteTime": {
     "end_time": "2020-05-17T00:21:15.301914Z",
     "start_time": "2020-05-17T00:21:15.268592Z"
    }
   },
   "source": [
    "To make things easier on ourselves, let's reformat our column names.\n",
    "\n",
    "<u>In the cell below:</u>\n",
    "1. Replace spaces with underscores for each column name\n",
    "2. Lower each column name\n",
    ">Bonus points if you do this via list comphrension 😃"
   ]
  },
  {
   "cell_type": "code",
   "execution_count": null,
   "metadata": {},
   "outputs": [],
   "source": [
    "# Your code here\n"
   ]
  },
  {
   "cell_type": "code",
   "execution_count": 12,
   "metadata": {
    "ExecuteTime": {
     "end_time": "2020-05-17T01:55:09.331931Z",
     "start_time": "2020-05-17T01:55:09.328195Z"
    }
   },
   "outputs": [],
   "source": [
    "# __SOLUTION__\n",
    "df.columns = [x.lower().replace(' ', '_') for x in df.columns]"
   ]
  },
  {
   "cell_type": "markdown",
   "metadata": {
    "ExecuteTime": {
     "end_time": "2020-05-17T00:31:27.767106Z",
     "start_time": "2020-05-17T00:31:27.740575Z"
    }
   },
   "source": [
    "<center><i><h1>So much cleaning</h1></i></center>\n",
    "\n",
    "\n",
    "![](https://media.giphy.com/media/3o7WIE14z2d66BJWJa/giphy.gif)\n",
    "\n",
    "--------\n",
    "\n",
    "Ok Ok, we're almost done formatting our data.\n",
    "\n",
    "<u>In the cell below:</u> \n",
    "1. Print out the datatypes for each of our columns using the ```.info()``` method.\n"
   ]
  },
  {
   "cell_type": "code",
   "execution_count": null,
   "metadata": {},
   "outputs": [],
   "source": [
    "# Your code here\n"
   ]
  },
  {
   "cell_type": "code",
   "execution_count": 13,
   "metadata": {
    "ExecuteTime": {
     "end_time": "2020-05-17T01:55:11.809526Z",
     "start_time": "2020-05-17T01:55:11.802544Z"
    }
   },
   "outputs": [
    {
     "name": "stdout",
     "output_type": "stream",
     "text": [
      "<class 'pandas.core.frame.DataFrame'>\n",
      "Index: 835 entries, Abingdon to Zion\n",
      "Data columns (total 8 columns):\n",
      "establishment_count    835 non-null int64\n",
      "terminal_count         835 non-null int64\n",
      "amount_played          835 non-null float64\n",
      "amount_won             835 non-null float64\n",
      "nti_tax                835 non-null float64\n",
      "state_share            835 non-null float64\n",
      "municipality_share     835 non-null float64\n",
      "population             835 non-null object\n",
      "dtypes: float64(5), int64(2), object(1)\n",
      "memory usage: 58.7+ KB\n"
     ]
    }
   ],
   "source": [
    "# __SOLUTION__\n",
    "df.info()"
   ]
  },
  {
   "cell_type": "markdown",
   "metadata": {},
   "source": [
    "Our ```population``` column contains commas which is causing the computer to interpret the column as a string.\n",
    "\n",
    "<u>In the cell below:</u>\n",
    "1. Remove the commas from the column using the ```.apply``` method\n",
    ">**If your confused:** Find the answer relating to ```.apply()``` in this [Stack Overflow](https://stackoverflow.com/questions/56947333/how-to-remove-commas-from-all-the-column-in-pandas-at-once/56947424#56947424?newreg=3c19aff3bd5146a19f7787afedc243a2) thread.\n",
    "2. Convert the column datatype to integer\n",
    "\n",
    "    - Bonus points if you can do steps 1 & 2 with 1️⃣ line of code! 😻"
   ]
  },
  {
   "cell_type": "code",
   "execution_count": null,
   "metadata": {},
   "outputs": [],
   "source": [
    "# Your code here\n"
   ]
  },
  {
   "cell_type": "code",
   "execution_count": 14,
   "metadata": {
    "ExecuteTime": {
     "end_time": "2020-05-17T01:55:19.876272Z",
     "start_time": "2020-05-17T01:55:19.871361Z"
    }
   },
   "outputs": [],
   "source": [
    "#__SOLUTION__\n",
    "df.population = df.population.apply(lambda x: int(x.replace(',', '')))"
   ]
  },
  {
   "cell_type": "markdown",
   "metadata": {
    "ExecuteTime": {
     "end_time": "2020-05-17T00:51:29.636765Z",
     "start_time": "2020-05-17T00:51:29.423590Z"
    }
   },
   "source": [
    "# Cleaning Complete!\n",
    "\n",
    "<img src=\"https://media.giphy.com/media/hEZIaecxpR78I/giphy.gif\" width=400/>"
   ]
  },
  {
   "cell_type": "markdown",
   "metadata": {},
   "source": [
    "#### Ok Ok! \n",
    "\n",
    "Let's create a column that shows the number of gambling terminals per capita!\n",
    "\n",
    "<u>In the cell below:</u>\n",
    "1. Create a new column called ```terminals_percapita``` by dividing ```terminal_count``` by ```population```"
   ]
  },
  {
   "cell_type": "code",
   "execution_count": null,
   "metadata": {},
   "outputs": [],
   "source": [
    "# Your code here\n"
   ]
  },
  {
   "cell_type": "code",
   "execution_count": 15,
   "metadata": {
    "ExecuteTime": {
     "end_time": "2020-05-17T01:55:24.142313Z",
     "start_time": "2020-05-17T01:55:24.124717Z"
    }
   },
   "outputs": [],
   "source": [
    "# __SOLUTION__\n",
    "df['terminals_percapita'] = df.terminal_count/df.population"
   ]
  },
  {
   "cell_type": "markdown",
   "metadata": {},
   "source": [
    "Now let's identify which communities have the highest number of gambling devices per capita. \n",
    "\n",
    "\n",
    "<u>In the cell(s) below:</u>\n",
    "1. [Sort](https://pandas.pydata.org/pandas-docs/stable/reference/api/pandas.DataFrame.sort_values.html) the dataframe according to the ```terminals_percapita``` column.\n",
    "2. Identify the 10 communities with the highest number of gambling machines per capita.\n",
    "3. Save those 10 community names in a list called ```highest_machines_percapita```"
   ]
  },
  {
   "cell_type": "code",
   "execution_count": null,
   "metadata": {
    "ExecuteTime": {
     "end_time": "2020-05-17T01:05:16.869432Z",
     "start_time": "2020-05-17T01:05:16.864292Z"
    }
   },
   "outputs": [],
   "source": [
    "# Your code here\n"
   ]
  },
  {
   "cell_type": "code",
   "execution_count": 16,
   "metadata": {
    "ExecuteTime": {
     "end_time": "2020-05-17T01:55:26.632973Z",
     "start_time": "2020-05-17T01:55:26.626986Z"
    }
   },
   "outputs": [],
   "source": [
    "# __SOLUTION__\n",
    "\n",
    "highest_machines_percapita = df.sort_values(by='terminals_percapita', ascending=False)\\\n",
    "                                                                                .head(10)\\\n",
    "                                                                                .index\n",
    "highest_machines_percapita = list(highest_machines_percapita)"
   ]
  },
  {
   "cell_type": "markdown",
   "metadata": {},
   "source": [
    "Run the cell below to see if you identified the correct Municipalities!"
   ]
  },
  {
   "cell_type": "code",
   "execution_count": null,
   "metadata": {},
   "outputs": [],
   "source": [
    "######################### TEST HERE"
   ]
  },
  {
   "cell_type": "markdown",
   "metadata": {},
   "source": [
    "- Find the 10 cities with the highest machines per capita\n",
    "- Find the 10 cities with the most machines\n",
    "- Calculate the average amount of money lost as an integer\n",
    "- Highest Loss percapita"
   ]
  },
  {
   "cell_type": "code",
   "execution_count": null,
   "metadata": {
    "ExecuteTime": {
     "end_time": "2020-05-17T01:46:28.753670Z",
     "start_time": "2020-05-17T01:46:28.742046Z"
    }
   },
   "outputs": [],
   "source": [
    "df.head()"
   ]
  },
  {
   "cell_type": "markdown",
   "metadata": {},
   "source": [
    "**Next,** let's figure out how much money players lost for each municipality.\n",
    "\n",
    "<u>In the cell below:</u>\n",
    "1. Create a new column called ```amount_lost``` that is the difference between the ```amount_played``` and ```amount_won``` columns"
   ]
  },
  {
   "cell_type": "code",
   "execution_count": null,
   "metadata": {},
   "outputs": [],
   "source": [
    "# Your code here\n"
   ]
  },
  {
   "cell_type": "code",
   "execution_count": 17,
   "metadata": {
    "ExecuteTime": {
     "end_time": "2020-05-17T01:55:30.633180Z",
     "start_time": "2020-05-17T01:55:30.628923Z"
    }
   },
   "outputs": [],
   "source": [
    "# __SOLUTION__\n",
    "df['amount_lost'] = df.amount_played - df.amount_won"
   ]
  },
  {
   "cell_type": "markdown",
   "metadata": {},
   "source": [
    "<u>In the cell below:</u>\n",
    "1. Save the mean of the ```amount_loss``` column as the variable ```average_loss```.\n",
    "2. Using numpy, round the ```average_loss``` variable to 2 decimal points.\n",
    "    - Save the rounded number as the variable ```average_loss_rounded```"
   ]
  },
  {
   "cell_type": "code",
   "execution_count": null,
   "metadata": {},
   "outputs": [],
   "source": [
    "# Your code here\n",
    "\n",
    "average_loss = None\n",
    "average_loss_rounded = None"
   ]
  },
  {
   "cell_type": "code",
   "execution_count": 21,
   "metadata": {
    "ExecuteTime": {
     "end_time": "2020-05-17T02:00:33.185181Z",
     "start_time": "2020-05-17T02:00:33.178024Z"
    }
   },
   "outputs": [],
   "source": [
    "# __SOLUTION__\n",
    "\n",
    "average_loss = df.amount_lost.mean()\n",
    "average_loss_rounded = np.round(average_loss, decimals=2)"
   ]
  },
  {
   "cell_type": "markdown",
   "metadata": {},
   "source": [
    "Let's zoom in on this new loss data. \n",
    "\n",
    "<u>In the cell below:</u>\n",
    "1. Create a new column called ```loss_percapita``` that is the division of the ```amount_lost``` and ```population```"
   ]
  },
  {
   "cell_type": "code",
   "execution_count": null,
   "metadata": {},
   "outputs": [],
   "source": [
    "# Your code here"
   ]
  },
  {
   "cell_type": "code",
   "execution_count": 18,
   "metadata": {
    "ExecuteTime": {
     "end_time": "2020-05-17T01:55:35.334865Z",
     "start_time": "2020-05-17T01:55:35.331250Z"
    }
   },
   "outputs": [],
   "source": [
    "# __SOLUTION__\n",
    "df['loss_percapita'] = df.amount_lost / df.population"
   ]
  },
  {
   "cell_type": "markdown",
   "metadata": {},
   "source": [
    "<u>In the cell below</u>\n",
    "1. Sort the dataframe by ```loss_percapita``` and save the 10 communities with the highest loss per capita to a list called ```highest_loss_percapita```"
   ]
  },
  {
   "cell_type": "code",
   "execution_count": null,
   "metadata": {},
   "outputs": [],
   "source": [
    "# Your code here\n",
    "highest_loss_percapita = None"
   ]
  },
  {
   "cell_type": "code",
   "execution_count": 19,
   "metadata": {
    "ExecuteTime": {
     "end_time": "2020-05-17T01:55:45.405457Z",
     "start_time": "2020-05-17T01:55:45.400536Z"
    }
   },
   "outputs": [],
   "source": [
    "# __SOLUTION__\n",
    "highest_loss_percapita = list(df.sort_values(by='loss_percapita', ascending = False).head(10).index)"
   ]
  },
  {
   "cell_type": "markdown",
   "metadata": {
    "ExecuteTime": {
     "end_time": "2020-05-17T01:55:55.877308Z",
     "start_time": "2020-05-17T01:55:55.873469Z"
    }
   },
   "source": [
    "Run the cell below to see if you idenitified the correct municipalities!"
   ]
  },
  {
   "cell_type": "code",
   "execution_count": null,
   "metadata": {},
   "outputs": [],
   "source": [
    "######################### TEST HERE"
   ]
  },
  {
   "cell_type": "markdown",
   "metadata": {
    "ExecuteTime": {
     "end_time": "2020-05-17T02:18:33.975014Z",
     "start_time": "2020-05-17T02:18:33.849160Z"
    }
   },
   "source": [
    "<u>In the cell below:</u>\n",
    "1. Filter our dataframe to contain municipalities with a ```loss_percapita``` of 406 or greater. \n",
    "    - Save this filtered dataframe as ```high_loss_percapita```\n",
    "2. Filter our dataframe to contain municipalities with a ```loss_percapita``` of 155 or less.\n",
    "    - Save this filtered dataframe as ```low_loss_percapita```\n",
    "3. Identify the mean population for the municipalities with a high per capita loss\n",
    "    - Using numpy, round this data point to 2 decimals\n",
    "    - Save this data point as the variable ```high_loss_average_population```\n",
    "\n",
    "4. Identify the mean population for the municipalities with a low per capita loss.\n",
    "    - Using numpy round this data point to 2 decimals\n",
    "    - Save this data point as the variable ```low_loss_average_population```  "
   ]
  },
  {
   "cell_type": "code",
   "execution_count": null,
   "metadata": {},
   "outputs": [],
   "source": [
    "# Your code here\n"
   ]
  },
  {
   "cell_type": "code",
   "execution_count": 49,
   "metadata": {
    "ExecuteTime": {
     "end_time": "2020-05-17T02:38:52.881708Z",
     "start_time": "2020-05-17T02:38:52.875940Z"
    }
   },
   "outputs": [],
   "source": [
    "# __SOLUTION__\n",
    "high_loss_percapita = df[df.loss_percapita >= 406]\n",
    "low_loss_percapita = df[df.loss_percapita <= 155]\n",
    "high_loss_average_population = np.round(high_loss_percapita.population.mean(), 2)\n",
    "low_loss_average_population = np.round(low_loss_percapita.population.mean(), 2)"
   ]
  },
  {
   "cell_type": "markdown",
   "metadata": {
    "ExecuteTime": {
     "end_time": "2020-05-17T02:38:58.820615Z",
     "start_time": "2020-05-17T02:38:58.816687Z"
    }
   },
   "source": [
    "Run the cell below to see if you identified the correct averages!"
   ]
  },
  {
   "cell_type": "code",
   "execution_count": null,
   "metadata": {},
   "outputs": [],
   "source": [
    "######################### TEST HERE"
   ]
  }
 ],
 "metadata": {
  "hide_input": false,
  "kernelspec": {
   "display_name": "Python 3",
   "language": "python",
   "name": "python3"
  },
  "language_info": {
   "codemirror_mode": {
    "name": "ipython",
    "version": 3
   },
   "file_extension": ".py",
   "mimetype": "text/x-python",
   "name": "python",
   "nbconvert_exporter": "python",
   "pygments_lexer": "ipython3",
   "version": "3.7.3"
  },
  "toc": {
   "base_numbering": 1,
   "nav_menu": {},
   "number_sections": false,
   "sideBar": true,
   "skip_h1_title": true,
   "title_cell": "Table of Contents",
   "title_sidebar": "Contents",
   "toc_cell": false,
   "toc_position": {},
   "toc_section_display": true,
   "toc_window_display": false
  },
  "varInspector": {
   "cols": {
    "lenName": 16,
    "lenType": 16,
    "lenVar": 40
   },
   "kernels_config": {
    "python": {
     "delete_cmd_postfix": "",
     "delete_cmd_prefix": "del ",
     "library": "var_list.py",
     "varRefreshCmd": "print(var_dic_list())"
    },
    "r": {
     "delete_cmd_postfix": ") ",
     "delete_cmd_prefix": "rm(",
     "library": "var_list.r",
     "varRefreshCmd": "cat(var_dic_list()) "
    }
   },
   "types_to_exclude": [
    "module",
    "function",
    "builtin_function_or_method",
    "instance",
    "_Feature"
   ],
   "window_display": false
  }
 },
 "nbformat": 4,
 "nbformat_minor": 2
}
